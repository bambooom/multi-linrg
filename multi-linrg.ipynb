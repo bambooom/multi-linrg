{
 "cells": [
  {
   "cell_type": "markdown",
   "metadata": {},
   "source": [
    "### multivariate linear regression\n",
    "$$ y = w_0 + w_1  x_1 + w_2 x_2 + w_3  x_3 $$\n",
    "compute $w_0,w_1,w_2,w_3$"
   ]
  },
  {
   "cell_type": "code",
   "execution_count": 1,
   "metadata": {
    "collapsed": false
   },
   "outputs": [
    {
     "name": "stdout",
     "output_type": "stream",
     "text": [
      "README.md         data.csv          multi-linrg.ipynb multi-linrg.py\r\n"
     ]
    }
   ],
   "source": [
    "!ls"
   ]
  },
  {
   "cell_type": "code",
   "execution_count": 2,
   "metadata": {
    "collapsed": false
   },
   "outputs": [
    {
     "name": "stdout",
     "output_type": "stream",
     "text": [
      "x1,x2,x3,y\r\n",
      "0.511942218869,0.412118485242,0.540302305868,3.13513359407\r\n",
      "-0.385495035898,-0.756802495308,0.753902254343,1.18965565737\r\n",
      "-0.0166378209851,0.989358246623,0.540302305868,2.4040293201\r\n",
      "0.786973424983,0.14112000806,1.0,6.35996967803\r\n",
      "0.395975554823,0.656986598719,0.540302305868,2.8825578735\r\n",
      "1.41801127326,-0.279415498199,0.96017028665,5.96444747979\r\n",
      "2.41666215151,0.0,-0.653643620864,8.67681330186\r\n",
      "0.0107047943288,0.656986598719,-0.653643620864,3.80298438425\r\n",
      "0.356687666195,-0.279415498199,-0.911130261885,2.43446475337\r\n"
     ]
    }
   ],
   "source": [
    "!head data.csv"
   ]
  },
  {
   "cell_type": "code",
   "execution_count": 3,
   "metadata": {
    "collapsed": true
   },
   "outputs": [],
   "source": [
    "import numpy as np\n",
    "raw = np.genfromtxt ('data.csv', delimiter=\",\",skip_header=1)"
   ]
  },
  {
   "cell_type": "code",
   "execution_count": 4,
   "metadata": {
    "collapsed": false
   },
   "outputs": [
    {
     "data": {
      "text/plain": [
       "(1000, 4)"
      ]
     },
     "execution_count": 4,
     "metadata": {},
     "output_type": "execute_result"
    }
   ],
   "source": [
    "raw.shape"
   ]
  },
  {
   "cell_type": "code",
   "execution_count": 5,
   "metadata": {
    "collapsed": false
   },
   "outputs": [
    {
     "data": {
      "text/plain": [
       "dtype('float64')"
      ]
     },
     "execution_count": 5,
     "metadata": {},
     "output_type": "execute_result"
    }
   ],
   "source": [
    "raw.dtype"
   ]
  },
  {
   "cell_type": "code",
   "execution_count": 6,
   "metadata": {
    "collapsed": true
   },
   "outputs": [],
   "source": [
    "y_raw=raw[:,-1] # y: last column"
   ]
  },
  {
   "cell_type": "code",
   "execution_count": 7,
   "metadata": {
    "collapsed": false
   },
   "outputs": [
    {
     "data": {
      "text/plain": [
       "(1000,)"
      ]
     },
     "execution_count": 7,
     "metadata": {},
     "output_type": "execute_result"
    }
   ],
   "source": [
    "y_raw.shape"
   ]
  },
  {
   "cell_type": "code",
   "execution_count": 8,
   "metadata": {
    "collapsed": true
   },
   "outputs": [],
   "source": [
    "# x_0 = np.ones(1000), intercept term w0\n",
    "# add x_0 as first column to construct X matrix\n",
    "x_matrix = np.append(np.ones(1000).reshape(1000,1),raw[:,0:3],axis=1)"
   ]
  },
  {
   "cell_type": "code",
   "execution_count": 9,
   "metadata": {
    "collapsed": false
   },
   "outputs": [
    {
     "data": {
      "text/plain": [
       "(1000, 4)"
      ]
     },
     "execution_count": 9,
     "metadata": {},
     "output_type": "execute_result"
    }
   ],
   "source": [
    "x_matrix.shape"
   ]
  },
  {
   "cell_type": "markdown",
   "metadata": {},
   "source": [
    "### 1. OLS矩阵法\n",
    "\n",
    "$\\hat w=(X^TX)^{-1}X^Ty $"
   ]
  },
  {
   "cell_type": "code",
   "execution_count": 10,
   "metadata": {
    "collapsed": false
   },
   "outputs": [
    {
     "data": {
      "text/plain": [
       "array([ 2.03076198,  2.97396653, -0.54139002,  0.97132913])"
      ]
     },
     "execution_count": 10,
     "metadata": {},
     "output_type": "execute_result"
    }
   ],
   "source": [
    "from numpy.linalg import inv\n",
    "\n",
    "w = inv(np.dot(x_matrix.T,x_matrix)).dot(x_matrix.T).dot(y_raw)\n",
    "w"
   ]
  },
  {
   "cell_type": "markdown",
   "metadata": {},
   "source": [
    "so $w_0 = 2.03076198, w_1 = 2.97396653, w_2 = -0.54139002, w_3 = 0.97132913$"
   ]
  },
  {
   "cell_type": "markdown",
   "metadata": {},
   "source": [
    "### 2. 随机梯度下降 stochastic gradient descent\n",
    "\n",
    "* initial guess: w0,w1,w2,w3\n",
    "* cost function:\n",
    "$$ J(w) = \\frac{1}{2} \\sum_{i=1}^{1000} (w_0+w_1 x_1^{(i)}+w_2 x_2^{(i)}+w_3 x_3^{(i)} - y^{(i)})^2$$\n",
    "\n",
    "* minimize cost function by update w using gradient descent algorithm\n",
    "$$ w_j = w_j + \\alpha \\frac{\\partial}{\\partial w_j} J(w) $$\n",
    "$$     = w_j + \\alpha (y^{(i)})-\\hat y^{(i)}))*x^{(i)} $$\n",
    "* sgd algorithm:\n",
    "\n",
    "`\n",
    "loop :\n",
    "    for i=1 to 1000:\n",
    "        w_vector = w_vector + alpha*(y_raw - predicted_y)[i-th]*x[i-th_example]\n",
    "`\n"
   ]
  },
  {
   "cell_type": "code",
   "execution_count": 11,
   "metadata": {
    "collapsed": true
   },
   "outputs": [],
   "source": [
    "def sgd1(ws,alpha,x,y):\n",
    "    \n",
    "    for j in xrange(100):\n",
    "        for i in xrange(1000):\n",
    "            pred_y = np.dot(x,ws)\n",
    "            error = y - pred_y\n",
    "            ws = ws + alpha*error[i]*x[i,:]\n",
    "    return ws"
   ]
  },
  {
   "cell_type": "code",
   "execution_count": 12,
   "metadata": {
    "collapsed": false
   },
   "outputs": [
    {
     "data": {
      "text/plain": [
       "array([ 2.06136271,  2.98939891, -0.53134609,  0.98906994])"
      ]
     },
     "execution_count": 12,
     "metadata": {},
     "output_type": "execute_result"
    }
   ],
   "source": [
    "ws = np.ones(4)\n",
    "alpha = 0.001\n",
    "\n",
    "sgd1(ws,alpha,x_matrix,y_raw)"
   ]
  },
  {
   "cell_type": "markdown",
   "metadata": {},
   "source": [
    "发现和 matrix 方法得到的略有差别, 重新考虑了一下update w 的目的是使 cost function 最小.  \n",
    "所以在每步更新 w 后比较 cost function 是否变小, 若没有变小, 就不更新这一步."
   ]
  },
  {
   "cell_type": "code",
   "execution_count": 13,
   "metadata": {
    "collapsed": true
   },
   "outputs": [],
   "source": [
    "def cost_func(ws,x,y): #cost function J(w)\n",
    "    return sum((np.dot(x,ws)-y)**2)/2"
   ]
  },
  {
   "cell_type": "code",
   "execution_count": 14,
   "metadata": {
    "collapsed": false
   },
   "outputs": [],
   "source": [
    "def sgd2(ws,alpha,x,y):\n",
    "    \n",
    "    for j in xrange(100):\n",
    "        for i in xrange(1000):\n",
    "            old_cost=cost_func(ws,x,y)\n",
    "            pred_y = np.dot(x,ws)\n",
    "            error = y - pred_y\n",
    "            ws = ws + alpha*error[i]*x[i,:]\n",
    "            new_cost=cost_func(ws,x,y)\n",
    "            \n",
    "            if (new_cost > old_cost):\n",
    "                ws = ws - alpha*error[i]*x[i,:]\n",
    "\n",
    "    return ws"
   ]
  },
  {
   "cell_type": "code",
   "execution_count": 15,
   "metadata": {
    "collapsed": false
   },
   "outputs": [
    {
     "data": {
      "text/plain": [
       "array([ 2.03076186,  2.97397058, -0.54138078,  0.97133892])"
      ]
     },
     "execution_count": 15,
     "metadata": {},
     "output_type": "execute_result"
    }
   ],
   "source": [
    "ws = np.ones(4)\n",
    "alpha = 0.001\n",
    "\n",
    "sgd2(ws,alpha,x_matrix,y_raw)"
   ]
  },
  {
   "cell_type": "code",
   "execution_count": 16,
   "metadata": {
    "collapsed": false
   },
   "outputs": [
    {
     "name": "stdout",
     "output_type": "stream",
     "text": [
      "1st method - analytical solution by matrix\n",
      "w0 = 2.030762\n",
      "w1 = 2.973967\n",
      "w2 = -0.541390\n",
      "w3 = 0.971329\n",
      "2nd method - stochastic gradient descent\n",
      "w0 = 2.030762\n",
      "w1 = 2.973971\n",
      "w2 = -0.541381\n",
      "w3 = 0.971339\n"
     ]
    }
   ],
   "source": [
    "%run multi-linrg.py"
   ]
  }
 ],
 "metadata": {
  "kernelspec": {
   "display_name": "Python 2",
   "language": "python",
   "name": "python2"
  },
  "language_info": {
   "codemirror_mode": {
    "name": "ipython",
    "version": 2
   },
   "file_extension": ".py",
   "mimetype": "text/x-python",
   "name": "python",
   "nbconvert_exporter": "python",
   "pygments_lexer": "ipython2",
   "version": "2.7.11"
  }
 },
 "nbformat": 4,
 "nbformat_minor": 0
}
